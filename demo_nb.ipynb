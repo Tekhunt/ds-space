{
  "nbformat": 4,
  "nbformat_minor": 0,
  "metadata": {
    "colab": {
      "provenance": [],
      "toc_visible": true,
      "authorship_tag": "ABX9TyNMh12hMx3QvjCTrGCwEC0+",
      "include_colab_link": true
    },
    "kernelspec": {
      "name": "python3",
      "display_name": "Python 3"
    },
    "language_info": {
      "name": "python"
    }
  },
  "cells": [
    {
      "cell_type": "markdown",
      "metadata": {
        "id": "view-in-github",
        "colab_type": "text"
      },
      "source": [
        "<a href=\"https://colab.research.google.com/github/Tekhunt/ds-space/blob/main/demo_nb.ipynb\" target=\"_parent\"><img src=\"https://colab.research.google.com/assets/colab-badge.svg\" alt=\"Open In Colab\"/></a>"
      ]
    },
    {
      "cell_type": "code",
      "execution_count": null,
      "metadata": {
        "id": "NGVJu1jeysBR"
      },
      "outputs": [],
      "source": []
    },
    {
      "cell_type": "markdown",
      "source": [
        "Injest\n"
      ],
      "metadata": {
        "id": "7rViic2Syscs"
      }
    },
    {
      "cell_type": "code",
      "source": [],
      "metadata": {
        "id": "5GwBXI8cyuoj"
      },
      "execution_count": null,
      "outputs": []
    },
    {
      "cell_type": "markdown",
      "source": [
        "EDA"
      ],
      "metadata": {
        "id": "yakm-wH6yvtn"
      }
    },
    {
      "cell_type": "code",
      "source": [],
      "metadata": {
        "id": "ftw6DTI3yw9G"
      },
      "execution_count": null,
      "outputs": []
    },
    {
      "cell_type": "markdown",
      "source": [
        "Modelling"
      ],
      "metadata": {
        "id": "YNXGSp89yxpp"
      }
    },
    {
      "cell_type": "code",
      "source": [],
      "metadata": {
        "id": "Uk_bBbeMy0Tr"
      },
      "execution_count": null,
      "outputs": []
    },
    {
      "cell_type": "markdown",
      "source": [
        "Conclusion"
      ],
      "metadata": {
        "id": "WUMclWqqy0tp"
      }
    },
    {
      "cell_type": "code",
      "source": [],
      "metadata": {
        "id": "CDnuadPJy11F"
      },
      "execution_count": null,
      "outputs": []
    },
    {
      "cell_type": "markdown",
      "source": [],
      "metadata": {
        "id": "Lh42fLWiy3rf"
      }
    }
  ]
}